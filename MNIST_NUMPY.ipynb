{
  "nbformat": 4,
  "nbformat_minor": 0,
  "metadata": {
    "colab": {
      "name": "MNIST_NUMPY.ipynb",
      "provenance": [],
      "collapsed_sections": []
    },
    "kernelspec": {
      "name": "python3",
      "display_name": "Python 3"
    },
    "language_info": {
      "name": "python"
    }
  },
  "cells": [
    {
      "cell_type": "code",
      "metadata": {
        "colab": {
          "base_uri": "https://localhost:8080/"
        },
        "id": "GxogIS5L_U8k",
        "outputId": "35512cc5-ac85-4c87-a6bb-618bac0206d2"
      },
      "source": [
        "from google.colab import drive\n",
        "drive.mount('/content/drive')"
      ],
      "execution_count": 1,
      "outputs": [
        {
          "output_type": "stream",
          "text": [
            "Drive already mounted at /content/drive; to attempt to forcibly remount, call drive.mount(\"/content/drive\", force_remount=True).\n"
          ],
          "name": "stdout"
        }
      ]
    },
    {
      "cell_type": "code",
      "metadata": {
        "id": "A91wZkjLS4T7"
      },
      "source": [
        "import pickle\n",
        "import numpy as np\n",
        "import matplotlib.pyplot as plt\n",
        "\n",
        "np.random.seed(1)"
      ],
      "execution_count": 2,
      "outputs": []
    },
    {
      "cell_type": "code",
      "metadata": {
        "id": "kdU-BjFoJw47"
      },
      "source": [
        "\"\"\" credits of dataset https://github.com/hsjeong5/MNIST-for-Numpy \"\"\"\n",
        "def load():\n",
        "    with open(\"/content/drive/MyDrive/MNIST/mnist.pkl\",'rb') as f:\n",
        "        mnist = pickle.load(f)\n",
        "    return mnist[\"training_images\"], mnist[\"training_labels\"], mnist[\"test_images\"], mnist[\"test_labels\"]\n",
        "x_train, y_train, x_test, y_test = load()"
      ],
      "execution_count": 3,
      "outputs": []
    },
    {
      "cell_type": "code",
      "metadata": {
        "colab": {
          "base_uri": "https://localhost:8080/",
          "height": 281
        },
        "id": "Aw9bZkFMPGf-",
        "outputId": "25705606-0a10-4227-eebe-1977dd8361c7"
      },
      "source": [
        "# sample image\n",
        "img = x_train[0,:].reshape(28,28)\n",
        "plt.title(str(y_train[0]))\n",
        "plt.imshow(img,cmap='gray')\n",
        "plt.show()"
      ],
      "execution_count": 4,
      "outputs": [
        {
          "output_type": "display_data",
          "data": {
            "image/png": "[encoded data removed]",
            "text/plain": [
              "<Figure size 432x288 with 1 Axes>"
            ]
          },
          "metadata": {
            "tags": [],
            "needs_background": "light"
          }
        }
      ]
    },
    {
      "cell_type": "code",
      "metadata": {
        "colab": {
          "base_uri": "https://localhost:8080/"
        },
        "id": "fynOIJwlkdIm",
        "outputId": "38ab0430-a9d2-4214-bde6-12ec79709575"
      },
      "source": [
        "# converts y_train, y_test to one hot encoded outputs\n",
        "def convert(y):\n",
        "    x = np.zeros((10,y.size))\n",
        "    x[y,np.arange(y.size)] = 1\n",
        "    return x\n",
        "print(\"x_train\",x_train.shape,\"y_train\",y_train.shape,\"x_test\",x_test.shape,\"y_test\",y_test.shape)\n",
        "y_train,y_test = convert(y_train), convert(y_test)\n",
        "x_train, x_test = x_train.T, x_test.T\n",
        "print(\"x_train\",x_train.shape,\"y_train\",y_train.shape,\"x_test\",x_test.shape,\"y_test\",y_test.shape)"
      ],
      "execution_count": 5,
      "outputs": [
        {
          "output_type": "stream",
          "text": [
            "x_train (60000, 784) y_train (60000,) x_test (10000, 784) y_test (10000,)\n",
            "x_train (784, 60000) y_train (10, 60000) x_test (784, 10000) y_test (10, 10000)\n"
          ],
          "name": "stdout"
        }
      ]
    },
    {
      "cell_type": "code",
      "metadata": {
        "id": "CrJqJASQKMqW"
      },
      "source": [
        "# relu activation function \n",
        "def ReLU(X):\n",
        "    X[X<0] = 0\n",
        "    return X\n",
        "# backpropagation through relu\n",
        "def ReLU_Backward(dA,Z):\n",
        "    dZ = np.array(dA, copy = True)\n",
        "    dZ[Z <0] = 0\n",
        "    dZ.squeeze()\n",
        "    return dZ\n",
        "\n",
        "\n",
        "def SoftMax(X):\n",
        "    s = np.exp(X)\n",
        "    total = np.sum(s,axis = 0)\n",
        "    return (s/total)\n",
        "\n",
        "\n",
        "# initializes the parameters\n",
        "def InitializeParameters(n0,n1,n2,nl):\n",
        "    \"\"\"\n",
        "    n0 = input layers, it's the 0th layer\n",
        "    n1 = no. of hidden units in 1st layer\n",
        "    n2 = no. of hidden units in 2nd layer\n",
        "    nl = no. of hidden units in last layer\n",
        "\n",
        "    \"\"\"\n",
        "    W1 = np.random.randn(n1,n0)*0.01\n",
        "    b1 = np.random.randn(n1,1)\n",
        "\n",
        "    W2 = np.random.randn(n2,n1)*0.01\n",
        "    b2 = np.random.randn(n2,1)\n",
        "\n",
        "    W3 = np.random.randn(nl,n2)*0.01\n",
        "    b3 = np.random.randn(nl,1)\n",
        "\n",
        "    Parameters = {\"W1\":W1,\"b1\":b1,\"W2\":W2,\"b2\":b2,\"W3\":W3, \"b3\": b3}\n",
        "\n",
        "    return Parameters\n",
        "\n",
        "# forward pass\n",
        "def Forward(x,Parameters):\n",
        "    \"\"\"\n",
        "    Does a forward pass\n",
        "    \"\"\"\n",
        "    W1,b1 = Parameters[\"W1\"],Parameters[\"b1\"]\n",
        "    W2,b2 = Parameters[\"W2\"],Parameters[\"b2\"]\n",
        "    W3,b3 = Parameters[\"W3\"],Parameters[\"b3\"]\n",
        "\n",
        "    Z1 = np.matmul(W1,x) + b1\n",
        "    A1 = ReLU(Z1)\n",
        "\n",
        "    Z2 = np.matmul(W2,Z1) + b2\n",
        "    A2 = ReLU(Z2)\n",
        "\n",
        "    Z3 = np.matmul(W3,Z2) + b3\n",
        "    y_pred = SoftMax(Z3)\n",
        "    caches = {\"A0\" : x_train,\n",
        "              \"A1\" : A1,\n",
        "              \"A2\" : A2,\n",
        "              \"A3\" : y_pred,\n",
        "              \"Z1\" : Z1,\n",
        "              \"Z2\" : Z2,\n",
        "              \"Z3\" : Z3}\n",
        "\n",
        "    return y_pred, caches\n",
        "\n",
        "# cross entropy loss\n",
        "def Loss(y_pred,y_true):\n",
        "    loss_vectr = (np.log(y_pred) * y_true).sum(axis = 0)\n",
        "    return -np.mean(loss_vectr)\n",
        "\n",
        "# backprop\n",
        "def BackPropagate_and_UpdateWeights(x_train,y_train, Parameters, caches, learning_rate = 0.001):\n",
        "    \n",
        "    W1,b1 = Parameters[\"W1\"],Parameters[\"b1\"]\n",
        "    W2,b2 = Parameters[\"W2\"],Parameters[\"b2\"]\n",
        "    W3,b3 = Parameters[\"W3\"],Parameters[\"b3\"]\n",
        "\n",
        "    A0 = caches[\"A0\"]\n",
        "    A1 = caches[\"A1\"]\n",
        "    A2 = caches[\"A2\"]\n",
        "    A3 = caches[\"A3\"]\n",
        "    Z1 = caches[\"Z1\"]\n",
        "    Z2 = caches[\"Z2\"]\n",
        "    Z3 = caches[\"Z3\"]\n",
        "\n",
        "    dZ3 = A3 - y_train\n",
        "    \n",
        "    db3 = (1/A3.shape[1])*np.sum(dZ3, axis = 1).reshape((A3.shape[0],1)) \n",
        "    dW3 = (1/A3.shape[1])* np.matmul(dZ3,A2.T)\n",
        "\n",
        "    dA2 = np.matmul(W3.T,dZ3)\n",
        "    dZ2 = ReLU_Backward(dA2,Z2)\n",
        "\n",
        "    db2 = (1/A2.shape[1])*np.sum(dZ2, axis = 1).reshape((A2.shape[0],1))\n",
        "    dW2 = (1/A2.shape[1])*np.matmul(dZ2,A1.T)\n",
        "\n",
        "    dA1 = np.matmul(W2.T,dZ2)\n",
        "    dZ1 = ReLU_Backward(dA1,Z2)\n",
        "\n",
        "    db1 = (1/A1.shape[1])*np.sum(dZ1, axis = 1).reshape((A1.shape[0],1))\n",
        "    dW1 = (1/A1.shape[1])*np.matmul(dZ1,A0.T)\n",
        "\n",
        "    Parameters[\"W1\"] -= dW1*learning_rate\n",
        "    Parameters[\"b1\"] -= db1*learning_rate\n",
        "\n",
        "    Parameters[\"W2\"] -= dW2*learning_rate\n",
        "    Parameters[\"b2\"] -= db2*learning_rate\n",
        "\n",
        "    Parameters[\"W3\"] -= dW3*learning_rate\n",
        "    Parameters[\"b3\"] -= db3*learning_rate\n",
        "\n",
        "def Accuracy(y_pred,y_true):\n",
        "    y_pred_result = np.argmax(y_pred,axis = 0)\n",
        "    y_true_result = np.argmax(y_true,axis = 0)\n",
        "    correct = np.sum(y_pred_result==y_true_result)\n",
        "    total = y_true.shape[1]\n",
        "    return (correct, total)\n"
      ],
      "execution_count": 6,
      "outputs": []
    },
    {
      "cell_type": "code",
      "metadata": {
        "id": "GetmiZlKBjhF"
      },
      "source": [
        "Parameters = InitializeParameters(784,512,512,10)"
      ],
      "execution_count": 7,
      "outputs": []
    },
    {
      "cell_type": "code",
      "metadata": {
        "colab": {
          "base_uri": "https://localhost:8080/",
          "height": 663
        },
        "id": "TP4VGflH-axy",
        "outputId": "33870d15-4f51-4e6f-9c64-495f9fb35de6"
      },
      "source": [
        "learning_rate = 0.001\n",
        "epochs = 20\n",
        "losses = []\n",
        "for epoch in range(epochs):\n",
        "    y_pred, caches = Forward(x_train,Parameters)\n",
        "    BackPropagate_and_UpdateWeights(x_train,y_train, Parameters, caches, learning_rate)\n",
        "    losses.append(Loss(y_pred,y_train))\n",
        "    correct, total = Accuracy(y_pred,y_train)\n",
        "    print(\"epoch:\",epoch+1,\"\\tloss\",\"{0:.6f}\".format(losses[-1]),\"\\tcorrect\",str(correct)+\"/\"+str(total))\n",
        "\n",
        "\n",
        "y_train_pred,_ = Forward(x_train,Parameters)\n",
        "correct,total = Accuracy(y_train_pred,y_train)\n",
        "print(\"train accuracy\", \"{0:.6f}\".format(100*correct/total))\n",
        "y_test_pred,_ = Forward(x_test,Parameters)\n",
        "correct,total = Accuracy(y_test_pred,y_test)\n",
        "print(\"test accuracy\",\"{0:.6f}\".format(100*correct/total))\n",
        "iters = [i+1 for i in range(epochs)]\n",
        "plt.plot(iters,losses)\n",
        "plt.title('iterations vs train loss')\n",
        "plt.show()"
      ],
      "execution_count": 9,
      "outputs": [
        {
          "output_type": "stream",
          "text": [
            "epoch: 1 \tloss 1.220102 \tcorrect 44129/60000\n",
            "epoch: 2 \tloss 1.190399 \tcorrect 44585/60000\n",
            "epoch: 3 \tloss 1.162320 \tcorrect 44979/60000\n",
            "epoch: 4 \tloss 1.135757 \tcorrect 45358/60000\n",
            "epoch: 5 \tloss 1.110605 \tcorrect 45688/60000\n",
            "epoch: 6 \tloss 1.086771 \tcorrect 46007/60000\n",
            "epoch: 7 \tloss 1.064169 \tcorrect 46282/60000\n",
            "epoch: 8 \tloss 1.042718 \tcorrect 46535/60000\n",
            "epoch: 9 \tloss 1.022340 \tcorrect 46756/60000\n",
            "epoch: 10 \tloss 1.002966 \tcorrect 46962/60000\n",
            "epoch: 11 \tloss 0.984531 \tcorrect 47149/60000\n",
            "epoch: 12 \tloss 0.966973 \tcorrect 47349/60000\n",
            "epoch: 13 \tloss 0.950238 \tcorrect 47520/60000\n",
            "epoch: 14 \tloss 0.934272 \tcorrect 47688/60000\n",
            "epoch: 15 \tloss 0.919028 \tcorrect 47865/60000\n",
            "epoch: 16 \tloss 0.904460 \tcorrect 48029/60000\n",
            "epoch: 17 \tloss 0.890525 \tcorrect 48150/60000\n",
            "epoch: 18 \tloss 0.877186 \tcorrect 48296/60000\n",
            "epoch: 19 \tloss 0.864406 \tcorrect 48424/60000\n",
            "epoch: 20 \tloss 0.852154 \tcorrect 48558/60000\n",
            "train accuracy 81.143333\n",
            "test accuracy 82.110000\n"
          ],
          "name": "stdout"
        },
        {
          "output_type": "display_data",
          "data": {
            "image/png": "[encoded data removed]",
            "text/plain": [
              "<Figure size 432x288 with 1 Axes>"
            ]
          },
          "metadata": {
            "tags": [],
            "needs_background": "light"
          }
        }
      ]
    },
    {
      "cell_type": "markdown",
      "metadata": {
        "id": "GUMXuJi-HJbq"
      },
      "source": [
        "References:\n",
        "https://www.deeplearning.ai/,\n",
        "https://www.kaggle.com/scaomath/simple-mnist-numpy-from-scratch?select=train.csv, https://stackoverflow.com/questions/40575841/numpy-calculate-the-derivative-of-the-softmax-function\n",
        "\n"
      ]
    }
  ]
}